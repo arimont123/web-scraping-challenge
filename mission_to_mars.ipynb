{
 "cells": [
  {
   "cell_type": "code",
   "execution_count": 151,
   "metadata": {},
   "outputs": [],
   "source": [
    "from bs4 import BeautifulSoup as bs\n",
    "import requests\n",
    "import pandas as pd\n",
    "from splinter import Browser\n",
    "import time"
   ]
  },
  {
   "cell_type": "code",
   "execution_count": 164,
   "metadata": {},
   "outputs": [],
   "source": [
    "#initialize chrome driver\n",
    "executable_path = {'executable_path':'chromedriver.exe'}\n",
    "browser = Browser('chrome',**executable_path,headless = True)\n",
    "\n",
    "#Create empty dictionary to store all data in\n",
    "mars_dict = {}"
   ]
  },
  {
   "cell_type": "code",
   "execution_count": 165,
   "metadata": {},
   "outputs": [],
   "source": [
    "#Url of page to be scraped\n",
    "url = \"https://mars.nasa.gov/news/\"\n",
    "browser.visit(url)\n",
    "browser.links.find_by_partial_text('Next')\n",
    "\n",
    "html = browser.html\n",
    "# Create a Beautiful Soup object\n",
    "soup = bs(html,'html.parser')"
   ]
  },
  {
   "cell_type": "code",
   "execution_count": 166,
   "metadata": {},
   "outputs": [
    {
     "name": "stdout",
     "output_type": "stream",
     "text": [
      "NASA's Perseverance Rover Will Carry First Spacesuit Materials to Mars\n",
      "\n",
      "\n",
      "In a Q&A, spacesuit designer Amy Ross explains how five samples, including a piece of helmet visor, will be tested aboard the rover, which is targeting a July 30 launch. NASA's Perseverance Rover Will Carry First Spacesuit Materials to MarsJuly 28, 2020NASA's Perseverance Rover Will Carry First Spacesuit Materials to MarsIn a Q&A, spacesuit designer Amy Ross explains how five samples, including a piece of helmet visor, will be tested aboard the rover, which is targeting a July 30 launch. \n"
     ]
    }
   ],
   "source": [
    "#collect the latest News Title and Paragraph Text. Assign the text to variables that you can reference later.\n",
    "news_title = soup.find_all('li',class_='slide')[0].find(class_='content_title').text\n",
    "news_p = soup.find_all('li',class_='slide')[0].text\n",
    "\n",
    "print(news_title)\n",
    "print('\\n')\n",
    "print(news_p)\n",
    "\n",
    "mars_dict['news_title'] = news_title\n",
    "mars_dict['news_p'] = news_p"
   ]
  },
  {
   "cell_type": "code",
   "execution_count": 168,
   "metadata": {},
   "outputs": [
    {
     "name": "stdout",
     "output_type": "stream",
     "text": [
      "https://www.jpl.nasa.gov/spaceimages/images/mediumsize/PIA14924_ip.jpg\n"
     ]
    }
   ],
   "source": [
    "#Use splinter to navigate the site and find the image url for the current Featured Mars Image and assign the url string to \n",
    "#a variable called `featured_image_url`.\n",
    "\n",
    "pic_url = \"https://www.jpl.nasa.gov/spaceimages/?search=&category=Mars\"\n",
    "browser.visit(pic_url)\n",
    "\n",
    "#click on the 'full image' button to view featured image\n",
    "browser.find_by_id('full_image').click()\n",
    "time.sleep(4)\n",
    "pic = browser.html\n",
    "\n",
    "# Create a Beautiful Soup object\n",
    "soup = bs(pic,'html.parser')\n",
    "\n",
    "featured_image_url = \"https://www.jpl.nasa.gov\" + soup.find_all('img',class_='fancybox-image')[0]['src']\n",
    "\n",
    "print(featured_image_url)\n",
    "mars_dict['featured_image_url'] = featured_image_url"
   ]
  },
  {
   "cell_type": "code",
   "execution_count": 177,
   "metadata": {},
   "outputs": [
    {
     "name": "stdout",
     "output_type": "stream",
     "text": [
      "sol 594 (2020-07-28) low -91.8ºC (-133.2ºF) high -16.6ºC (2.2ºF)\n",
      "winds from the WNW at 8.0 m/s (17.8 mph) gusting to 20.7 m/s (46.4 mph)\n",
      "pressure at 7.90 hPa1322\n"
     ]
    }
   ],
   "source": [
    "#Visit the Mars Weather twitter account and scrape the latest Mars weather tweet from the page. \n",
    "#Save the tweet text for the weather report as a variable called `mars_weather`.\n",
    "\n",
    "twit_url= \"https://twitter.com/marswxreport?lang=en\"\n",
    "browser.visit(twit_url)\n",
    "\n",
    "browser.links.find_by_partial_text('Next')\n",
    "\n",
    "twit = browser.html\n",
    "\n",
    "soup_twit = bs(twit,'html.parser')\n",
    "\n",
    "weather = soup_twit.find('article',class_=\"css-1dbjc4n r-1loqt21 r-18u37iz r-1ny4l3l r-o7ynqc r-6416eg\").text\n",
    "mars_weather = weather.strip().replace('Mars Weather@MarsWxReport·9hInSight ','')\n",
    "print(mars_weather)\n",
    "\n",
    "mars_dict['mars_weather'] = mars_weather"
   ]
  },
  {
   "cell_type": "code",
   "execution_count": 170,
   "metadata": {},
   "outputs": [
    {
     "data": {
      "text/html": [
       "<div>\n",
       "<style scoped>\n",
       "    .dataframe tbody tr th:only-of-type {\n",
       "        vertical-align: middle;\n",
       "    }\n",
       "\n",
       "    .dataframe tbody tr th {\n",
       "        vertical-align: top;\n",
       "    }\n",
       "\n",
       "    .dataframe thead th {\n",
       "        text-align: right;\n",
       "    }\n",
       "</style>\n",
       "<table border=\"1\" class=\"dataframe\">\n",
       "  <thead>\n",
       "    <tr style=\"text-align: right;\">\n",
       "      <th></th>\n",
       "      <th>Value</th>\n",
       "    </tr>\n",
       "    <tr>\n",
       "      <th>Description</th>\n",
       "      <th></th>\n",
       "    </tr>\n",
       "  </thead>\n",
       "  <tbody>\n",
       "    <tr>\n",
       "      <th>Equatorial Diameter:</th>\n",
       "      <td>6,792 km</td>\n",
       "    </tr>\n",
       "    <tr>\n",
       "      <th>Polar Diameter:</th>\n",
       "      <td>6,752 km</td>\n",
       "    </tr>\n",
       "    <tr>\n",
       "      <th>Mass:</th>\n",
       "      <td>6.39 × 10^23 kg (0.11 Earths)</td>\n",
       "    </tr>\n",
       "    <tr>\n",
       "      <th>Moons:</th>\n",
       "      <td>2 (Phobos &amp; Deimos)</td>\n",
       "    </tr>\n",
       "    <tr>\n",
       "      <th>Orbit Distance:</th>\n",
       "      <td>227,943,824 km (1.38 AU)</td>\n",
       "    </tr>\n",
       "    <tr>\n",
       "      <th>Orbit Period:</th>\n",
       "      <td>687 days (1.9 years)</td>\n",
       "    </tr>\n",
       "    <tr>\n",
       "      <th>Surface Temperature:</th>\n",
       "      <td>-87 to -5 °C</td>\n",
       "    </tr>\n",
       "    <tr>\n",
       "      <th>First Record:</th>\n",
       "      <td>2nd millennium BC</td>\n",
       "    </tr>\n",
       "    <tr>\n",
       "      <th>Recorded By:</th>\n",
       "      <td>Egyptian astronomers</td>\n",
       "    </tr>\n",
       "  </tbody>\n",
       "</table>\n",
       "</div>"
      ],
      "text/plain": [
       "                                              Value\n",
       "Description                                        \n",
       "Equatorial Diameter:                       6,792 km\n",
       "Polar Diameter:                            6,752 km\n",
       "Mass:                 6.39 × 10^23 kg (0.11 Earths)\n",
       "Moons:                          2 (Phobos & Deimos)\n",
       "Orbit Distance:            227,943,824 km (1.38 AU)\n",
       "Orbit Period:                  687 days (1.9 years)\n",
       "Surface Temperature:                   -87 to -5 °C\n",
       "First Record:                     2nd millennium BC\n",
       "Recorded By:                   Egyptian astronomers"
      ]
     },
     "execution_count": 170,
     "metadata": {},
     "output_type": "execute_result"
    }
   ],
   "source": [
    "# Visit the Mars Facts webpage and use Pandas to scrape the table containing facts about the planet \n",
    "#including Diameter, Mass, etc.\n",
    "\n",
    "url3 = \"https://space-facts.com/mars/\"\n",
    "\n",
    "table = pd.read_html(url3)\n",
    "df = table[0]\n",
    "df.columns = ['Description','Value']\n",
    "df.set_index('Description', inplace=True)\n",
    "df"
   ]
  },
  {
   "cell_type": "code",
   "execution_count": 171,
   "metadata": {},
   "outputs": [],
   "source": [
    "#Use Pandas to convert the data to a HTML table string.\n",
    "html_table =df.to_html()\n",
    "#Get rid of new line symbols\n",
    "new_table = html_table.replace('\\n', '')\n",
    "new_table\n",
    "\n",
    "mars_dict['html_table'] = new_table"
   ]
  },
  {
   "cell_type": "code",
   "execution_count": 172,
   "metadata": {},
   "outputs": [
    {
     "name": "stdout",
     "output_type": "stream",
     "text": [
      "[{'title': 'Cerberus Hemisphere Enhanced', 'img_url': 'https://astropedia.astrogeology.usgs.gov/download/Mars/Viking/cerberus_enhanced.tif/full.jpg'}, {'title': 'Schiaparelli Hemisphere Enhanced', 'img_url': 'https://astropedia.astrogeology.usgs.gov/download/Mars/Viking/schiaparelli_enhanced.tif/full.jpg'}, {'title': 'Syrtis Major Hemisphere Enhanced', 'img_url': 'https://astropedia.astrogeology.usgs.gov/download/Mars/Viking/syrtis_major_enhanced.tif/full.jpg'}, {'title': 'Valles Marineris Hemisphere Enhanced', 'img_url': 'https://astropedia.astrogeology.usgs.gov/download/Mars/Viking/valles_marineris_enhanced.tif/full.jpg'}]\n"
     ]
    }
   ],
   "source": [
    "#Save both the image url string for the full resolution hemisphere image, and the Hemisphere title containing the \n",
    "#hemisphere name. Use a Python dictionary to store the data using the keys `img_url` and `title`.\n",
    "\n",
    "url4 = \"https://astrogeology.usgs.gov/search/results?q=hemisphere+enhanced&k1=target&v1=Mars\"\n",
    "browser.visit(url4)\n",
    "browser.links.find_by_partial_text('Next')\n",
    "\n",
    "hem = browser.html\n",
    "\n",
    "soup_hem = bs(hem,'html.parser')\n",
    "\n",
    "#Append the dictionary with the image url string and the hemisphere title to a list. This list will contain one dictionary \n",
    "#for each hemisphere.\n",
    "\n",
    "#Create empty dictionary of lists\n",
    "hem_dict = []\n",
    "data = soup_hem.find_all('div',class_=\"description\")\n",
    "\n",
    "for item in data:\n",
    "    highres_url = f\"https://astrogeology.usgs.gov{item.find('a')['href']}\"\n",
    "    highres = browser.visit(highres_url)\n",
    "    highres = browser.html\n",
    "    \n",
    "    soup_highres = bs(highres,'html.parser')\n",
    "    \n",
    "    highres_img = soup_highres.find_all('div',class_='downloads')[0].find('a')['href']\n",
    "    \n",
    "    title = item.find('h3').text\n",
    "    hem_dict.append({\"title\": title, \"img_url\": highres_img})\n",
    "    \n",
    "print(hem_dict)\n",
    "mars_dict['hemisphere_image_urls']=hem_dict"
   ]
  },
  {
   "cell_type": "code",
   "execution_count": 173,
   "metadata": {},
   "outputs": [
    {
     "name": "stdout",
     "output_type": "stream",
     "text": [
      "{'news_title': \"NASA's Perseverance Rover Will Carry First Spacesuit Materials to Mars\", 'news_p': \"In a Q&A, spacesuit designer Amy Ross explains how five samples, including a piece of helmet visor, will be tested aboard the rover, which is targeting a July 30 launch. NASA's Perseverance Rover Will Carry First Spacesuit Materials to MarsJuly 28, 2020NASA's Perseverance Rover Will Carry First Spacesuit Materials to MarsIn a Q&A, spacesuit designer Amy Ross explains how five samples, including a piece of helmet visor, will be tested aboard the rover, which is targeting a July 30 launch. \", 'featured_image_url': 'https://www.jpl.nasa.gov/spaceimages/images/mediumsize/PIA14924_ip.jpg', 'mars_weather': 'Mars Weather@MarsWxReport·5hInSight sol 594 (2020-07-28) low -91.8ºC (-133.2ºF) high -16.6ºC (2.2ºF)\\nwinds from the WNW at 8.0 m/s (17.8 mph) gusting to 20.7 m/s (46.4 mph)\\npressure at 7.90 hPa1118', 'html_table': '<table border=\"1\" class=\"dataframe\">  <thead>    <tr style=\"text-align: right;\">      <th></th>      <th>Value</th>    </tr>    <tr>      <th>Description</th>      <th></th>    </tr>  </thead>  <tbody>    <tr>      <th>Equatorial Diameter:</th>      <td>6,792 km</td>    </tr>    <tr>      <th>Polar Diameter:</th>      <td>6,752 km</td>    </tr>    <tr>      <th>Mass:</th>      <td>6.39 × 10^23 kg (0.11 Earths)</td>    </tr>    <tr>      <th>Moons:</th>      <td>2 (Phobos &amp; Deimos)</td>    </tr>    <tr>      <th>Orbit Distance:</th>      <td>227,943,824 km (1.38 AU)</td>    </tr>    <tr>      <th>Orbit Period:</th>      <td>687 days (1.9 years)</td>    </tr>    <tr>      <th>Surface Temperature:</th>      <td>-87 to -5 °C</td>    </tr>    <tr>      <th>First Record:</th>      <td>2nd millennium BC</td>    </tr>    <tr>      <th>Recorded By:</th>      <td>Egyptian astronomers</td>    </tr>  </tbody></table>', 'hemisphere_image_urls': [{'title': 'Cerberus Hemisphere Enhanced', 'img_url': 'https://astropedia.astrogeology.usgs.gov/download/Mars/Viking/cerberus_enhanced.tif/full.jpg'}, {'title': 'Schiaparelli Hemisphere Enhanced', 'img_url': 'https://astropedia.astrogeology.usgs.gov/download/Mars/Viking/schiaparelli_enhanced.tif/full.jpg'}, {'title': 'Syrtis Major Hemisphere Enhanced', 'img_url': 'https://astropedia.astrogeology.usgs.gov/download/Mars/Viking/syrtis_major_enhanced.tif/full.jpg'}, {'title': 'Valles Marineris Hemisphere Enhanced', 'img_url': 'https://astropedia.astrogeology.usgs.gov/download/Mars/Viking/valles_marineris_enhanced.tif/full.jpg'}]}\n"
     ]
    }
   ],
   "source": [
    "#Print out mars_dict \n",
    "print(mars_dict)"
   ]
  },
  {
   "cell_type": "code",
   "execution_count": null,
   "metadata": {},
   "outputs": [],
   "source": []
  }
 ],
 "metadata": {
  "kernelspec": {
   "display_name": "Python 3",
   "language": "python",
   "name": "python3"
  },
  "language_info": {
   "codemirror_mode": {
    "name": "ipython",
    "version": 3
   },
   "file_extension": ".py",
   "mimetype": "text/x-python",
   "name": "python",
   "nbconvert_exporter": "python",
   "pygments_lexer": "ipython3",
   "version": "3.7.6"
  }
 },
 "nbformat": 4,
 "nbformat_minor": 4
}
